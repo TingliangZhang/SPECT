{
 "nbformat": 4,
 "nbformat_minor": 2,
 "metadata": {
  "language_info": {
   "name": "python",
   "codemirror_mode": {
    "name": "ipython",
    "version": 3
   },
   "version": "3.8.1-final"
  },
  "orig_nbformat": 2,
  "file_extension": ".py",
  "mimetype": "text/x-python",
  "name": "python",
  "npconvert_exporter": "python",
  "pygments_lexer": "ipython3",
  "version": 3,
  "kernelspec": {
   "name": "python38164bit615d935d9d604631b83406825e560a99",
   "display_name": "Python 3.8.1 64-bit"
  }
 },
 "cells": [
  {
   "cell_type": "code",
   "execution_count": 2,
   "metadata": {},
   "outputs": [
    {
     "name": "stdout",
     "output_type": "stream",
     "text": "0.8983199323137989\n"
    }
   ],
   "source": [
    "# pip install SSIM-PIL\n",
    "# Comparison of two images using the structural similarity algorithm (SSIM). It's compatible with the PIL. Supports GPU acceleration via pyopencl.\n",
    "\n",
    "from SSIM_PIL import compare_ssim\n",
    "from PIL import Image\n",
    "\n",
    "image1 = Image.open('41-coronal.png')\n",
    "image2 = Image.open('44-coronal.png')\n",
    "value = compare_ssim(image1, image2)\n",
    "print(value)\n"
   ]
  },
  {
   "cell_type": "code",
   "execution_count": null,
   "metadata": {},
   "outputs": [],
   "source": []
  }
 ]
}