{
 "nbformat": 4,
 "nbformat_minor": 2,
 "metadata": {
  "language_info": {
   "name": "python",
   "codemirror_mode": {
    "name": "ipython",
    "version": 3
   },
   "version": "3.8.1-final"
  },
  "orig_nbformat": 2,
  "file_extension": ".py",
  "mimetype": "text/x-python",
  "name": "python",
  "npconvert_exporter": "python",
  "pygments_lexer": "ipython3",
  "version": 3,
  "kernelspec": {
   "name": "python38164bit615d935d9d604631b83406825e560a99",
   "display_name": "Python 3.8.1 64-bit"
  }
 },
 "cells": [
  {
   "cell_type": "code",
   "execution_count": 3,
   "metadata": {},
   "outputs": [
    {
     "name": "stderr",
     "output_type": "stream",
     "text": "100%|██████████| 60/60 [02:31<00:00,  2.52s/it]\n"
    }
   ],
   "source": [
    "# import necessary libraries\n",
    "import numpy as np\n",
    "import matplotlib.pyplot as plt\n",
    "import pandas as pd\n",
    "from tqdm import tqdm\n",
    "import math\n",
    "\n",
    "# read 3D SPECT raw data\n",
    "imgData = np.fromfile('whole_bone.raw', dtype=\"float32\")\n",
    "# According to Document, the data was captured in 60 frames,\n",
    "# projection of a single frame is 128*128 matrix.\n",
    "proj = imgData.reshape(60,128,128)\n",
    "#for convenience\n",
    "square = 128*128\n",
    "\n",
    "# theta is rotation angle from the starting -x, around z axis\n",
    "def get_spect_tran_m(theta):\n",
    "    bias = 1e-6\n",
    "    # {cij} system matrix \n",
    "    c = np.zeros((square,128),dtype=\"float32\")\n",
    "    # np.linspace is a method for arithmetic progression\n",
    "    # i is the coordinate at r axis on detector\n",
    "    for i in np.linspace(-63.5,63.5,128):\n",
    "        # ang is rotation angle from +x, couter-clockwise\n",
    "        ang = math.pi-theta/180*math.pi\n",
    "        # vertical distance line from FOV center to detector\n",
    "        slope = math.tan(ang)\n",
    "        # intercept on y axis\n",
    "        intercept = i/math.cos(ang+bias)\n",
    "        # delta model of {cij}\n",
    "        # ray driven ergodic, No. c_j detector cell\n",
    "        c_j = int(i+63.5)\n",
    "        if slope<=0:  \n",
    "            for x in range(-63,65):\n",
    "                for y in range(-63,65):\n",
    "                    x2 = x-1\n",
    "                    y2 = y-1\n",
    "                    if (slope*x+intercept-y)*(slope*x2+intercept-y2) <=0:\n",
    "                        c_i = (x+63)*128+y+63\n",
    "                        c[c_i,c_j] = 1\n",
    "        else:\n",
    "            for x in range(-63,65):\n",
    "                for y in range(-63,65):\n",
    "                    x1 = x-1\n",
    "                    y1 = y\n",
    "                    x2 = x\n",
    "                    y2 = y-2\n",
    "                    if (slope*x1+intercept-y1)*(slope*x2+intercept-y2) <=0:\n",
    "                        c_i = (x+63)*128+y+63\n",
    "                        c[c_i,c_j] = 1\n",
    "    return c\n",
    "\n",
    "# actual rotation angle, 6 degree a frame\n",
    "theta_sample = np.arange(0,60,dtype=\"float32\")*6\n",
    "bias = 1e-6\n",
    "# when theta = n*90 deg\n",
    "theta_sample[np.linspace(0,45,4,dtype = \"int\")] = theta_sample[np.linspace(0,45,4,dtype=\"int\")] + bias\n",
    "# system matrix for 60 frames, same for every layer along z axis\n",
    "frame_c = {}\n",
    "i = 0\n",
    "\n",
    "# tqdm to create a progress bar 0-60, based on loop\n",
    "for n in tqdm(range(0,60)):\n",
    "    num = str(i)\n",
    "    frame_c[num] = get_spect_tran_m(theta_sample[i])\n",
    "    i = i + 1\n",
    "\n",
    "# to pile the 60 frames of system matrix in one matrix\n",
    "total_c = np.zeros((square,128*60),dtype=\"float32\")\n",
    "for i in range(0,59):\n",
    "    range1 = 128*i\n",
    "    range2 = 128*(i+1) \n",
    "    # store system matrix of 60 frames\n",
    "    total_c[:,range1:range2] = frame_c[str(i)]\n",
    "\n",
    "# reconstrunction image\n",
    "osem_spect = np.zeros((128,128,128),dtype=\"float32\")\n",
    "\n",
    "# iter means iteration times\n",
    "# divide the dataset to sub subsets\n",
    "# sub should be the factor of 60\n",
    "def OSEM_SPECT(i,sub,iter):\n",
    "    a=np.linspace(0,128*60,sub+1,dtype=\"int\")\n",
    "    # No. i slice on z axis\n",
    "    proj_slice = proj[:,i,:]\n",
    "    total_p = proj_slice.reshape(1,128*60).squeeze(0)\n",
    "    f_old = np.ones((1,square),dtype=\"float32\").squeeze(0)\n",
    "    f_new = np.ones((1,square),dtype=\"float32\").squeeze(0)\n",
    "    for index in range(0,iter):\n",
    "        for j in range(1,sub):\n",
    "            f_new = (f_old/np.sum(total_c[:,a[j]:a[j+1]]+bias,axis=1))*total_c[:,a[j]:a[j+1]].dot(total_p[a[j]:a[j+1]]/(f_old.dot(total_c[:,a[j]:a[j+1]]+bias)))\n",
    "            f_old = f_new\n",
    "    return f_old.reshape(128,128)"
   ]
  },
  {
   "cell_type": "code",
   "execution_count": 4,
   "metadata": {},
   "outputs": [
    {
     "name": "stderr",
     "output_type": "stream",
     "text": "100%|██████████| 128/128 [05:28<00:00,  2.57s/it]\n"
    }
   ],
   "source": [
    "# i in progress bar represents the i th layer on z axis\n",
    "for i in tqdm(range(0,128)):\n",
    "    osem_spect[i] = OSEM_SPECT(i,4,4)"
   ]
  },
  {
   "cell_type": "code",
   "execution_count": 7,
   "metadata": {},
   "outputs": [],
   "source": [
    "# to view in Amide or Matlab\n",
    "osem_spect.tofile(\"osem_mine.raw\")\n",
    "# to view a transversal profile\n",
    "#plt.imshow(osem_spect[64,:,:])\n",
    "#plt.show()\n",
    "\n",
    "# According to ICRP Publication 210, representative profiles should be:\n",
    "# transversal no. 147, 158, 168, 207\n",
    "# coronal no. 87\n",
    "# sagittal no. 109"
   ]
  },
  {
   "cell_type": "code",
   "execution_count": null,
   "metadata": {},
   "outputs": [],
   "source": []
  }
 ]
}